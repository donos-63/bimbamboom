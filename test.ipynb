{
 "metadata": {
  "language_info": {
   "codemirror_mode": {
    "name": "ipython",
    "version": 3
   },
   "file_extension": ".py",
   "mimetype": "text/x-python",
   "name": "python",
   "nbconvert_exporter": "python",
   "pygments_lexer": "ipython3",
   "version": "3.7.6-final"
  },
  "orig_nbformat": 2,
  "kernelspec": {
   "name": "python3",
   "display_name": "Python 3.7.6 64-bit (conda)",
   "metadata": {
    "interpreter": {
     "hash": "b3ba2566441a7c06988d0923437866b63cedc61552a5af99d1f4fb67d367b25f"
    }
   }
  }
 },
 "nbformat": 4,
 "nbformat_minor": 2,
 "cells": [
  {
   "source": [
    "# le client est roi\n",
    "\n",
    "## stocker dans une bdd mongodb un référentiel pays et effectuer des requêtes dessus"
   ],
   "cell_type": "markdown",
   "metadata": {}
  },
  {
   "source": [
    "### 0- Initialisation"
   ],
   "cell_type": "markdown",
   "metadata": {}
  },
  {
   "cell_type": "code",
   "execution_count": 1,
   "metadata": {},
   "outputs": [],
   "source": [
    "import requests"
   ]
  },
  {
   "cell_type": "code",
   "execution_count": 2,
   "metadata": {},
   "outputs": [],
   "source": [
    "#name of the fake country used to tests\n",
    "global_fake_country_name = \"WaKandA\"\n",
    "\n",
    "#density thresholds\n",
    "v_low = 100\n",
    "low = 200\n",
    "medium = 400"
   ]
  },
  {
   "cell_type": "code",
   "execution_count": 3,
   "metadata": {},
   "outputs": [],
   "source": [
    "#show the default fake country to display result of the operation\n",
    "def show_fake_country():\n",
    "    url = \"http://127.0.0.1:8080/api/country/\" + global_fake_country_name\n",
    "    response = requests.get(url)\n",
    "    print(response.text)"
   ]
  },
  {
   "source": [
    "### 1- Get country by name"
   ],
   "cell_type": "markdown",
   "metadata": {}
  },
  {
   "cell_type": "code",
   "execution_count": 4,
   "metadata": {},
   "outputs": [
    {
     "output_type": "stream",
     "name": "stdout",
     "text": [
      "{\"_id\":{\"$oid\":\"600dfbd741df7d83a1b4759c\"},\"density\":119,\"fertilisation_rate\":1.9,\"land_area\":547557,\"medium_age\":42,\"migrants\":36527.0,\"name\":\"france\",\"net_change\":143783,\"population\":65244628,\"update_date\":\"24/01/2021, 23:59:35\",\"urban_pop\":82.0,\"world_share\":0.84,\"yearly_change\":0.22}\n\n"
     ]
    }
   ],
   "source": [
    "name = \"France\"\n",
    "\n",
    "url = \"http://127.0.0.1:8080/api/country/\" + name\n",
    "response = requests.get(url)\n",
    "print(response.text)\n"
   ]
  },
  {
   "source": [
    "### 2- Create random country"
   ],
   "cell_type": "markdown",
   "metadata": {}
  },
  {
   "cell_type": "code",
   "execution_count": 5,
   "metadata": {},
   "outputs": [
    {
     "output_type": "stream",
     "name": "stdout",
     "text": [
      "{\"_id\":{\"$oid\":\"600dfc037403ecb76bcbb06b\"},\"density\":6070,\"fertilisation_rate\":6.5,\"land_area\":326176,\"medium_age\":63,\"migrants\":167010509,\"name\":\"wakanda\",\"net_change\":-81670580,\"population\":1979892850,\"update_date\":\"25/01/2021, 00:00:19\",\"urban_pop\":3,\"world_share\":8.375,\"yearly_change\":-4.125}\n\n{\"_id\":{\"$oid\":\"600dfc037403ecb76bcbb06b\"},\"density\":6070,\"fertilisation_rate\":6.5,\"land_area\":326176,\"medium_age\":63,\"migrants\":167010509,\"name\":\"wakanda\",\"net_change\":-81670580,\"population\":1979892850,\"update_date\":\"25/01/2021, 00:00:19\",\"urban_pop\":3,\"world_share\":8.375,\"yearly_change\":-4.125}\n\n"
     ]
    }
   ],
   "source": [
    "url = \"http://127.0.0.1:8080/api/insert_random/\" + global_fake_country_name\n",
    "response = requests.get(url)\n",
    "print(response.text)\n",
    "\n",
    "show_fake_country()"
   ]
  },
  {
   "source": [
    "### 3- Update a country"
   ],
   "cell_type": "markdown",
   "metadata": {}
  },
  {
   "cell_type": "code",
   "execution_count": 6,
   "metadata": {},
   "outputs": [
    {
     "output_type": "stream",
     "name": "stdout",
     "text": [
      "{\"_id\":{\"$oid\":\"600dfc037403ecb76bcbb06b\"},\"density\":6070,\"fertilisation_rate\":6.5,\"land_area\":326176,\"medium_age\":63,\"migrants\":-99999,\"name\":\"wakanda\",\"net_change\":-81670580,\"population\":1979892850,\"update_date\":\"25/01/2021, 00:00:20\",\"urban_pop\":3,\"world_share\":8.375,\"yearly_change\":-4.125}\n\n{\"_id\":{\"$oid\":\"600dfc037403ecb76bcbb06b\"},\"density\":6070,\"fertilisation_rate\":6.5,\"land_area\":326176,\"medium_age\":63,\"migrants\":-99999,\"name\":\"wakanda\",\"net_change\":-81670580,\"population\":1979892850,\"update_date\":\"25/01/2021, 00:00:20\",\"urban_pop\":3,\"world_share\":8.375,\"yearly_change\":-4.125}\n\n"
     ]
    }
   ],
   "source": [
    "datas =  {\"name\" : global_fake_country_name, \"tuples\" : \"{'migrants':-99999}\"}\n",
    "\n",
    "url = \"http://127.0.0.1:8080/api/update\" \n",
    "response = requests.post(url, data=datas)\n",
    "print(response.text)\n",
    "\n",
    "show_fake_country()"
   ]
  },
  {
   "source": [
    "### 4- Deletion of a country"
   ],
   "cell_type": "markdown",
   "metadata": {}
  },
  {
   "cell_type": "code",
   "execution_count": 7,
   "metadata": {},
   "outputs": [
    {
     "output_type": "stream",
     "name": "stdout",
     "text": [
      "{\"Message\":\"The country has been deleted.\"}\n\n{\"Message\":\"This country doesn't exist.\"}\n\n"
     ]
    }
   ],
   "source": [
    "datas =  {\"name\" : global_fake_country_name}\n",
    "\n",
    "url = \"http://127.0.0.1:8080/api/delete\" \n",
    "response = requests.delete(url, data=datas)\n",
    "print(response.text)\n",
    "\n",
    "show_fake_country()"
   ]
  },
  {
   "source": [
    "### 5- Get countries by density"
   ],
   "cell_type": "markdown",
   "metadata": {}
  },
  {
   "cell_type": "code",
   "execution_count": 8,
   "metadata": {
    "tags": [
     "outputPrepend"
    ]
   },
   "outputs": [
    {
     "output_type": "stream",
     "name": "stdout",
     "text": [
      "e041df7d83a1b475f1'}, 'density': 64, 'fertilisation_rate': 1.6, 'land_area': 108560, 'medium_age': 45, 'migrants': -4800.0, 'name': 'bulgaria', 'net_change': -51674, 'population': 6958627, 'update_date': '24/01/2021, 23:59:44', 'urban_pop': 76.0, 'world_share': 0.09, 'yearly_change': -0.74}, {'_id': {'$oid': '600dfbe041df7d83a1b475f2'}, 'density': 4, 'fertilisation_rate': 2.3, 'land_area': 1759540, 'medium_age': 29, 'migrants': -1999.0, 'name': 'libya', 'net_change': 93840, 'population': 6852010, 'update_date': '24/01/2021, 23:59:44', 'urban_pop': 78.0, 'world_share': 0.09, 'yearly_change': 1.38}, {'_id': {'$oid': '600dfbe141df7d83a1b475f4'}, 'density': 55, 'fertilisation_rate': 2.4, 'land_area': 120340, 'medium_age': 26, 'migrants': -21272.0, 'name': 'nicaragua', 'net_change': 79052, 'population': 6608366, 'update_date': '24/01/2021, 23:59:45', 'urban_pop': 57.0, 'world_share': 0.08, 'yearly_change': 1.21}, {'_id': {'$oid': '600dfbe141df7d83a1b475f5'}, 'density': 34, 'fertilisation_rate': 3.0, 'land_area': 191800, 'medium_age': 26, 'migrants': -4000.0, 'name': 'kyrgyzstan', 'net_change': 108345, 'population': 6501804, 'update_date': '24/01/2021, 23:59:45', 'urban_pop': 36.0, 'world_share': 0.08, 'yearly_change': 1.69}, {'_id': {'$oid': '600dfbe141df7d83a1b475f7'}, 'density': 13, 'fertilisation_rate': 2.8, 'land_area': 469930, 'medium_age': 27, 'migrants': -5000.0, 'name': 'turkmenistan', 'net_change': 89111, 'population': 6012850, 'update_date': '24/01/2021, 23:59:45', 'urban_pop': 53.0, 'world_share': 0.08, 'yearly_change': 1.5}, {'_id': {'$oid': '600dfbe141df7d83a1b475fa'}, 'density': 18, 'fertilisation_rate': 1.5, 'land_area': 303890, 'medium_age': 43, 'migrants': 14000.0, 'name': 'finland', 'net_change': 8564, 'population': 5539002, 'update_date': '24/01/2021, 23:59:45', 'urban_pop': 86.0, 'world_share': 0.07, 'yearly_change': 0.15}, {'_id': {'$oid': '600dfbe141df7d83a1b475fb'}, 'density': 16, 'fertilisation_rate': 4.5, 'land_area': 341500, 'medium_age': 19, 'migrants': -4000.0, 'name': 'congo', 'net_change': 137579, 'population': 5489191, 'update_date': '24/01/2021, 23:59:45', 'urban_pop': 70.0, 'world_share': 0.07, 'yearly_change': 2.56}, {'_id': {'$oid': '600dfbe241df7d83a1b475fd'}, 'density': 15, 'fertilisation_rate': 1.7, 'land_area': 365268, 'medium_age': 40, 'migrants': 28000.0, 'name': 'norway', 'net_change': 42384, 'population': 5412632, 'update_date': '24/01/2021, 23:59:46', 'urban_pop': 83.0, 'world_share': 0.07, 'yearly_change': 0.79}, {'_id': {'$oid': '600dfbe241df7d83a1b475fe'}, 'density': 16, 'fertilisation_rate': 2.9, 'land_area': 309500, 'medium_age': 31, 'migrants': 87400.0, 'name': 'oman', 'net_change': 131640, 'population': 5078933, 'update_date': '24/01/2021, 23:59:46', 'urban_pop': 87.0, 'world_share': 0.07, 'yearly_change': 2.65}, {'_id': {'$oid': '600dfbe241df7d83a1b47600'}, 'density': 100, 'fertilisation_rate': 1.8, 'land_area': 51060, 'medium_age': 33, 'migrants': 4200.0, 'name': 'costa rica', 'net_change': 46557, 'population': 5084636, 'update_date': '24/01/2021, 23:59:46', 'urban_pop': 80.0, 'world_share': 0.07, 'yearly_change': 0.92}, {'_id': {'$oid': '600dfbe241df7d83a1b47601'}, 'density': 53, 'fertilisation_rate': 4.4, 'land_area': 96320, 'medium_age': 19, 'migrants': -5000.0, 'name': 'liberia', 'net_change': 120307, 'population': 5032469, 'update_date': '24/01/2021, 23:59:46', 'urban_pop': 53.0, 'world_share': 0.06, 'yearly_change': 2.44}, {'_id': {'$oid': '600dfbe241df7d83a1b47602'}, 'density': 72, 'fertilisation_rate': 1.8, 'land_area': 68890, 'medium_age': 38, 'migrants': 23604.0, 'name': 'ireland', 'net_change': 55291, 'population': 4926480, 'update_date': '24/01/2021, 23:59:46', 'urban_pop': 63.0, 'world_share': 0.06, 'yearly_change': 1.13}, {'_id': {'$oid': '600dfbe241df7d83a1b47603'}, 'density': 8, 'fertilisation_rate': 4.8, 'land_area': 622980, 'medium_age': 18, 'migrants': -40000.0, 'name': 'central african republic', 'net_change': 84582, 'population': 4812256, 'update_date': '24/01/2021, 23:59:46', 'urban_pop': 43.0, 'world_share': 0.06, 'yearly_change': 1.78}, {'_id': {'$oid': '600dfbe241df7d83a1b47604'}, 'density': 18, 'fertilisation_rate': 1.9, 'land_area': 263310, 'medium_age': 38, 'migrants': 14881.0, 'name': 'new zealand', 'net_change': 39170, 'population': 4814272, 'update_date': '24/01/2021, 23:59:46', 'urban_pop': 87.0, 'world_share': 0.06, 'yearly_change': 0.82}, {'_id': {'$oid': '600dfbe241df7d83a1b47605'}, 'density': 5, 'fertilisation_rate': 4.6, 'land_area': 1030700, 'medium_age': 20, 'migrants': 5000.0, 'name': 'mauritania', 'net_change': 123962, 'population': 4623535, 'update_date': '24/01/2021, 23:59:46', 'urban_pop': 57.0, 'world_share': 0.06, 'yearly_change': 2.74}, {'_id': {'$oid': '600dfbe341df7d83a1b47606'}, 'density': 58, 'fertilisation_rate': 2.5, 'land_area': 74340, 'medium_age': 30, 'migrants': 11200.0, 'name': 'panama', 'net_change': 68328, 'population': 4300667, 'update_date': '24/01/2021, 23:59:47', 'urban_pop': 68.0, 'world_share': 0.06, 'yearly_change': 1.61}, {'_id': {'$oid': '600dfbe341df7d83a1b47608'}, 'density': 73, 'fertilisation_rate': 1.4, 'land_area': 55960, 'medium_age': 44, 'migrants': -8001.0, 'name': 'croatia', 'net_change': -25037, 'population': 4110214, 'update_date': '24/01/2021, 23:59:47', 'urban_pop': 58.0, 'world_share': 0.05, 'yearly_change': -0.61}, {'_id': {'$oid': '600dfbe341df7d83a1b4760a'}, 'density': 57, 'fertilisation_rate': 2.1, 'land_area': 69490, 'medium_age': 38, 'migrants': -10000.0, 'name': 'georgia', 'net_change': -7598, 'population': 3990681, 'update_date': '24/01/2021, 23:59:47', 'urban_pop': 58.0, 'world_share': 0.05, 'yearly_change': -0.19}, {'_id': {'$oid': '600dfbe341df7d83a1b4760b'}, 'density': 35, 'fertilisation_rate': 4.1, 'land_area': 101000, 'medium_age': 19, 'migrants': -39858.0, 'name': 'eritrea', 'net_change': 49304, 'population': 3536285, 'update_date': '24/01/2021, 23:59:47', 'urban_pop': 63.0, 'world_share': 0.05, 'yearly_change': 1.41}, {'_id': {'$oid': '600dfbe341df7d83a1b4760c'}, 'density': 20, 'fertilisation_rate': 2.0, 'land_area': 175020, 'medium_age': 36, 'migrants': -3000.0, 'name': 'uruguay', 'net_change': 11996, 'population': 3471314, 'update_date': '24/01/2021, 23:59:47', 'urban_pop': 96.0, 'world_share': 0.04, 'yearly_change': 0.35}, {'_id': {'$oid': '600dfbe341df7d83a1b4760d'}, 'density': 64, 'fertilisation_rate': 1.3, 'land_area': 51000, 'medium_age': 43, 'migrants': -21585.0, 'name': 'bosnia and herzegovina', 'net_change': -20181, 'population': 3284806, 'update_date': '24/01/2021, 23:59:47', 'urban_pop': 52.0, 'world_share': 0.04, 'yearly_change': -0.61}, {'_id': {'$oid': '600dfbe341df7d83a1b4760e'}, 'density': 2, 'fertilisation_rate': 2.9, 'land_area': 1553560, 'medium_age': 28, 'migrants': -852.0, 'name': 'mongolia', 'net_change': 53123, 'population': 3267320, 'update_date': '24/01/2021, 23:59:47', 'urban_pop': 67.0, 'world_share': 0.04, 'yearly_change': 1.65}, {'_id': {'$oid': '600dfbe441df7d83a1b47614'}, 'density': 43, 'fertilisation_rate': 1.7, 'land_area': 62674, 'medium_age': 45, 'migrants': -32780.0, 'name': 'lithuania', 'net_change': -37338, 'population': 2729553, 'update_date': '24/01/2021, 23:59:48', 'urban_pop': 71.0, 'world_share': 0.03, 'yearly_change': -1.35}, {'_id': {'$oid': '600dfbe441df7d83a1b47615'}, 'density': 3, 'fertilisation_rate': 3.4, 'land_area': 823290, 'medium_age': 22, 'migrants': -4806.0, 'name': 'namibia', 'net_change': 46375, 'population': 2531290, 'update_date': '24/01/2021, 23:59:48', 'urban_pop': 55.0, 'world_share': 0.03, 'yearly_change': 1.86}, {'_id': {'$oid': '600dfbe441df7d83a1b47617'}, 'density': 4, 'fertilisation_rate': 2.9, 'land_area': 566730, 'medium_age': 24, 'migrants': 3000.0, 'name': 'botswana', 'net_change': 47930, 'population': 2341649, 'update_date': '24/01/2021, 23:59:48', 'urban_pop': 73.0, 'world_share': 0.03, 'yearly_change': 2.08}, {'_id': {'$oid': '600dfbe541df7d83a1b47618'}, 'density': 9, 'fertilisation_rate': 4.0, 'land_area': 257670, 'medium_age': 23, 'migrants': 3260.0, 'name': 'gabon', 'net_change': 53155, 'population': 2214593, 'update_date': '24/01/2021, 23:59:49', 'urban_pop': 87.0, 'world_share': 0.03, 'yearly_change': 2.45}, {'_id': {'$oid': '600dfbe541df7d83a1b47619'}, 'density': 71, 'fertilisation_rate': 3.2, 'land_area': 30360, 'medium_age': 24, 'migrants': -10047.0, 'name': 'lesotho', 'net_change': 16981, 'population': 2138799, 'update_date': '24/01/2021, 23:59:49', 'urban_pop': 31.0, 'world_share': 0.03, 'yearly_change': 0.8}, {'_id': {'$oid': '600dfbe541df7d83a1b4761a'}, 'density': 83, 'fertilisation_rate': 1.5, 'land_area': 25220, 'medium_age': 39, 'migrants': -1000.0, 'name': 'north macedonia', 'net_change': -85, 'population': 2083391, 'update_date': '24/01/2021, 23:59:49', 'urban_pop': 59.0, 'world_share': 0.03, 'yearly_change': 0.0}, {'_id': {'$oid': '600dfbe541df7d83a1b4761c'}, 'density': 70, 'fertilisation_rate': 4.5, 'land_area': 28120, 'medium_age': 19, 'migrants': -1399.0, 'name': 'guinea-bissau', 'net_change': 47079, 'population': 1958132, 'update_date': '24/01/2021, 23:59:49', 'urban_pop': 45.0, 'world_share': 0.03, 'yearly_change': 2.45}, {'_id': {'$oid': '600dfbe541df7d83a1b4761d'}, 'density': 30, 'fertilisation_rate': 1.7, 'land_area': 62200, 'medium_age': 44, 'migrants': -14837.0, 'name': 'latvia', 'net_change': -20545, 'population': 1890218, 'update_date': '24/01/2021, 23:59:49', 'urban_pop': 69.0, 'world_share': 0.02, 'yearly_change': -1.08}, {'_id': {'$oid': '600dfbe541df7d83a1b4761f'}, 'density': 50, 'fertilisation_rate': 4.6, 'land_area': 28050, 'medium_age': 22, 'migrants': 16000.0, 'name': 'equatorial guinea', 'net_change': 46999, 'population': 1392950, 'update_date': '24/01/2021, 23:59:49', 'urban_pop': 73.0, 'world_share': 0.02, 'yearly_change': 3.47}, {'_id': {'$oid': '600dfbe541df7d83a1b47621'}, 'density': 31, 'fertilisation_rate': 1.6, 'land_area': 42390, 'medium_age': 42, 'migrants': 3911.0, 'name': 'estonia', 'net_change': 887, 'population': 1326357, 'update_date': '24/01/2021, 23:59:49', 'urban_pop': 68.0, 'world_share': 0.02, 'yearly_change': 0.07}, {'_id': {'$oid': '600dfbe641df7d83a1b47622'}, 'density': 89, 'fertilisation_rate': 4.1, 'land_area': 14870, 'medium_age': 21, 'migrants': -5385.0, 'name': 'timor-leste', 'net_change': 25326, 'population': 1313184, 'update_date': '24/01/2021, 23:59:50', 'urban_pop': 33.0, 'world_share': 0.02, 'yearly_change': 1.96}, {'_id': {'$oid': '600dfbe641df7d83a1b47625'}, 'density': 67, 'fertilisation_rate': 3.0, 'land_area': 17200, 'medium_age': 21, 'migrants': -8353.0, 'name': 'eswatini', 'net_change': 12034, 'population': 1157707, 'update_date': '24/01/2021, 23:59:50', 'urban_pop': 30.0, 'world_share': 0.01, 'yearly_change': 1.05}, {'_id': {'$oid': '600dfbe641df7d83a1b47626'}, 'density': 43, 'fertilisation_rate': 2.8, 'land_area': 23180, 'medium_age': 27, 'migrants': 900.0, 'name': 'djibouti', 'net_change': 14440, 'population': 985027, 'update_date': '24/01/2021, 23:59:50', 'urban_pop': 79.0, 'world_share': 0.01, 'yearly_change': 1.48}, {'_id': {'$oid': '600dfbe641df7d83a1b47627'}, 'density': 49, 'fertilisation_rate': 2.8, 'land_area': 18270, 'medium_age': 28, 'migrants': -6202.0, 'name': 'fiji', 'net_change': 6492, 'population': 895128, 'update_date': '24/01/2021, 23:59:50', 'urban_pop': 59.0, 'world_share': 0.01, 'yearly_change': 0.73}, {'_id': {'$oid': '600dfbe641df7d83a1b4762a'}, 'density': 4, 'fertilisation_rate': 2.5, 'land_area': 196850, 'medium_age': 27, 'migrants': -6000.0, 'name': 'guyana', 'net_change': 3786, 'population': 785788, 'update_date': '24/01/2021, 23:59:50', 'urban_pop': 27.0, 'world_share': 0.01, 'yearly_change': 0.48}, {'_id': {'$oid': '600dfbe641df7d83a1b4762b'}, 'density': 20, 'fertilisation_rate': 2.0, 'land_area': 38117, 'medium_age': 28, 'migrants': 320.0, 'name': 'bhutan', 'net_change': 8516, 'population': 769867, 'update_date': '24/01/2021, 23:59:50', 'urban_pop': 46.0, 'world_share': 0.01, 'yearly_change': 1.12}, {'_id': {'$oid': '600dfbe741df7d83a1b4762c'}, 'density': 25, 'fertilisation_rate': 4.4, 'land_area': 27990, 'medium_age': 20, 'migrants': -1600.0, 'name': 'solomon islands', 'net_change': 17061, 'population': 683301, 'update_date': '24/01/2021, 23:59:51', 'urban_pop': 23.0, 'world_share': 0.01, 'yearly_change': 2.55}, {'_id': {'$oid': '600dfbe741df7d83a1b4762e'}, 'density': 47, 'fertilisation_rate': 1.8, 'land_area': 13450, 'medium_age': 39, 'migrants': -480.0, 'name': 'montenegro', 'net_change': 79, 'population': 628050, 'update_date': '24/01/2021, 23:59:51', 'urban_pop': 68.0, 'world_share': 0.01, 'yearly_change': 0.01}, {'_id': {'$oid': '600dfbe741df7d83a1b47630'}, 'density': 2, 'fertilisation_rate': 2.4, 'land_area': 266000, 'medium_age': 28, 'migrants': 5582.0, 'name': 'western sahara', 'net_change': 14876, 'population': 594215, 'update_date': '24/01/2021, 23:59:51', 'urban_pop': 87.0, 'world_share': 0.01, 'yearly_change': 2.55}, {'_id': {'$oid': '600dfbe741df7d83a1b47631'}, 'density': 4, 'fertilisation_rate': 2.4, 'land_area': 156000, 'medium_age': 29, 'migrants': -1000.0, 'name': 'suriname', 'net_change': 5260, 'population': 585561, 'update_date': '24/01/2021, 23:59:51', 'urban_pop': 65.0, 'world_share': 0.01, 'yearly_change': 0.9}, {'_id': {'$oid': '600dfbe841df7d83a1b47635'}, 'density': 83, 'fertilisation_rate': 1.8, 'land_area': 5270, 'medium_age': 32, 'migrants': 0.0, 'name': 'brunei', 'net_change': 4194, 'population': 436624, 'update_date': '24/01/2021, 23:59:52', 'urban_pop': 80.0, 'world_share': 0.01, 'yearly_change': 0.97}, {'_id': {'$oid': '600dfbe841df7d83a1b47637'}, 'density': 17, 'fertilisation_rate': 2.3, 'land_area': 22810, 'medium_age': 25, 'migrants': 1200.0, 'name': 'belize', 'net_change': 7275, 'population': 396120, 'update_date': '24/01/2021, 23:59:52', 'urban_pop': 46.0, 'world_share': 0.01, 'yearly_change': 1.86}, {'_id': {'$oid': '600dfbe841df7d83a1b47638'}, 'density': 39, 'fertilisation_rate': 1.8, 'land_area': 10010, 'medium_age': 32, 'migrants': 1000.0, 'name': 'bahamas', 'net_change': 3762, 'population': 392477, 'update_date': '24/01/2021, 23:59:52', 'urban_pop': 86.0, 'world_share': 0.01, 'yearly_change': 0.97}, {'_id': {'$oid': '600dfbe841df7d83a1b4763a'}, 'density': 3, 'fertilisation_rate': 1.8, 'land_area': 100250, 'medium_age': 37, 'migrants': 380.0, 'name': 'iceland', 'net_change': 2212, 'population': 340795, 'update_date': '24/01/2021, 23:59:52', 'urban_pop': 94.0, 'world_share': 0.0, 'yearly_change': 0.65}, {'_id': {'$oid': '600dfbe841df7d83a1b4763b'}, 'density': 25, 'fertilisation_rate': 3.8, 'land_area': 12190, 'medium_age': 21, 'migrants': 120.0, 'name': 'vanuatu', 'net_change': 7263, 'population': 305623, 'update_date': '24/01/2021, 23:59:52', 'urban_pop': 24.0, 'world_share': 0.0, 'yearly_change': 2.42}, {'_id': {'$oid': '600dfbe841df7d83a1b4763c'}, 'density': 4, 'fertilisation_rate': 3.4, 'land_area': 82200, 'medium_age': 25, 'migrants': 1200.0, 'name': 'french guiana', 'net_change': 7850, 'population': 297029, 'update_date': '24/01/2021, 23:59:52', 'urban_pop': 87.0, 'world_share': 0.0, 'yearly_change': 2.7}, {'_id': {'$oid': '600dfbe941df7d83a1b4763e'}, 'density': 16, 'fertilisation_rate': 2.0, 'land_area': 18280, 'medium_age': 34, 'migrants': 502.0, 'name': 'new caledonia', 'net_change': 2748, 'population': 284938, 'update_date': '24/01/2021, 23:59:53', 'urban_pop': 72.0, 'world_share': 0.0, 'yearly_change': 0.97}, {'_id': {'$oid': '600dfbe941df7d83a1b4763f'}, 'density': 77, 'fertilisation_rate': 2.0, 'land_area': 3660, 'medium_age': 34, 'migrants': -1000.0, 'name': 'french polynesia', 'net_change': 1621, 'population': 280580, 'update_date': '24/01/2021, 23:59:53', 'urban_pop': 64.0, 'world_share': 0.0, 'yearly_change': 0.58}, {'_id': {'$oid': '600dfbe941df7d83a1b47642'}, 'density': 70, 'fertilisation_rate': 3.9, 'land_area': 2830, 'medium_age': 22, 'migrants': -2803.0, 'name': 'samoa', 'net_change': 1317, 'population': 198147, 'update_date': '24/01/2021, 23:59:53', 'urban_pop': 18.0, 'world_share': 0.0, 'yearly_change': 0.67}, {'_id': {'$oid': '600dfbeb41df7d83a1b47652'}, 'density': 96, 'fertilisation_rate': 2.0, 'land_area': 750, 'medium_age': 34, 'migrants': nan, 'name': 'dominica', 'net_change': 178, 'population': 71950, 'update_date': '24/01/2021, 23:59:55', 'urban_pop': 74.0, 'world_share': 0.0, 'yearly_change': 0.25}, {'_id': {'$oid': '600dfbec41df7d83a1b47657'}, 'density': 0, 'fertilisation_rate': 2.0, 'land_area': 410450, 'medium_age': 34, 'migrants': nan, 'name': 'greenland', 'net_change': 98, 'population': 56750, 'update_date': '24/01/2021, 23:59:56', 'urban_pop': 87.0, 'world_share': 0.0, 'yearly_change': 0.17}, {'_id': {'$oid': '600dfbec41df7d83a1b4765a'}, 'density': 35, 'fertilisation_rate': 2.0, 'land_area': 1396, 'medium_age': 34, 'migrants': nan, 'name': 'faeroe islands', 'net_change': 185, 'population': 48826, 'update_date': '24/01/2021, 23:59:56', 'urban_pop': 43.0, 'world_share': 0.0, 'yearly_change': 0.38}, {'_id': {'$oid': '600dfbec41df7d83a1b4765d'}, 'density': 41, 'fertilisation_rate': 2.0, 'land_area': 950, 'medium_age': 34, 'migrants': nan, 'name': 'turks and caicos', 'net_change': 526, 'population': 38609, 'update_date': '24/01/2021, 23:59:56', 'urban_pop': 89.0, 'world_share': 0.0, 'yearly_change': 1.38}, {'_id': {'$oid': '600dfbed41df7d83a1b47663'}, 'density': 80, 'fertilisation_rate': 2.0, 'land_area': 328, 'medium_age': 34, 'migrants': nan, 'name': 'caribbean netherlands', 'net_change': 244, 'population': 26173, 'update_date': '24/01/2021, 23:59:57', 'urban_pop': 75.0, 'world_share': 0.0, 'yearly_change': 0.94}, {'_id': {'$oid': '600dfbed41df7d83a1b47664'}, 'density': 39, 'fertilisation_rate': 2.0, 'land_area': 460, 'medium_age': 34, 'migrants': nan, 'name': 'palau', 'net_change': 86, 'population': 18077, 'update_date': '24/01/2021, 23:59:57', 'urban_pop': 75.0, 'world_share': 0.0, 'yearly_change': 0.48}, {'_id': {'$oid': '600dfbed41df7d83a1b47665'}, 'density': 73, 'fertilisation_rate': 2.0, 'land_area': 240, 'medium_age': 34, 'migrants': nan, 'name': 'cook islands', 'net_change': 16, 'population': 17561, 'update_date': '24/01/2021, 23:59:57', 'urban_pop': 75.0, 'world_share': 0.0, 'yearly_change': 0.09}, {'_id': {'$oid': '600dfbed41df7d83a1b47668'}, 'density': 80, 'fertilisation_rate': 2.0, 'land_area': 140, 'medium_age': 34, 'migrants': nan, 'name': 'wallis & futuna', 'net_change': -193, 'population': 11276, 'update_date': '24/01/2021, 23:59:57', 'urban_pop': 0.0, 'world_share': 0.0, 'yearly_change': -1.69}, {'_id': {'$oid': '600dfbee41df7d83a1b4766b'}, 'density': 16, 'fertilisation_rate': 2.0, 'land_area': 390, 'medium_age': 34, 'migrants': nan, 'name': 'saint helena', 'net_change': 18, 'population': 6073, 'update_date': '24/01/2021, 23:59:58', 'urban_pop': 27.0, 'world_share': 0.0, 'yearly_change': 0.3}, {'_id': {'$oid': '600dfbee41df7d83a1b4766c'}, 'density': 25, 'fertilisation_rate': 2.0, 'land_area': 230, 'medium_age': 34, 'migrants': nan, 'name': 'saint pierre & miquelon', 'net_change': -28, 'population': 5800, 'update_date': '24/01/2021, 23:59:58', 'urban_pop': 100.0, 'world_share': 0.0, 'yearly_change': -0.48}, {'_id': {'$oid': '600dfbee41df7d83a1b4766d'}, 'density': 50, 'fertilisation_rate': 2.0, 'land_area': 100, 'medium_age': 34, 'migrants': nan, 'name': 'montserrat', 'net_change': 3, 'population': 4991, 'update_date': '24/01/2021, 23:59:58', 'urban_pop': 10.0, 'world_share': 0.0, 'yearly_change': 0.06}, {'_id': {'$oid': '600dfbee41df7d83a1b4766e'}, 'density': 0, 'fertilisation_rate': 2.0, 'land_area': 12170, 'medium_age': 34, 'migrants': nan, 'name': 'falkland islands', 'net_change': 103, 'population': 3458, 'update_date': '24/01/2021, 23:59:58', 'urban_pop': 66.0, 'world_share': 0.0, 'yearly_change': 3.05}, {'_id': {'$oid': '600dfbee41df7d83a1b4766f'}, 'density': 6, 'fertilisation_rate': 2.0, 'land_area': 260, 'medium_age': 34, 'migrants': nan, 'name': 'niue', 'net_change': 11, 'population': 1624, 'update_date': '24/01/2021, 23:59:58', 'urban_pop': 46.0, 'world_share': 0.0, 'yearly_change': 0.68}]}\n"
     ]
    }
   ],
   "source": [
    "\n",
    "datas =  {\"v_low\" : v_low, \"low\" : low, \"medium\" : medium}\n",
    "\n",
    "url = \"http://127.0.0.1:8080/api/density\"\n",
    "\n",
    "response = requests.post(url, data=datas)\n",
    "print(response.json())\n",
    "\n"
   ]
  }
 ]
}